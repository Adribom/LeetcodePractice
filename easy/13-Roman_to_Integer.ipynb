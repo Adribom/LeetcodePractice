{
 "cells": [
  {
   "cell_type": "markdown",
   "metadata": {},
   "source": [
    "# [Given a roman numeral, convert it to an integer.](https://leetcode.com/problems/roman-to-integer/)"
   ]
  },
  {
   "cell_type": "markdown",
   "metadata": {},
   "source": [
    "## Version 1\n",
    "Runtime: 51 ms, faster than 80.27% of Python online submissions for Roman to Integer.\n",
    "\n",
    "Memory Usage: 13.6 MB, less than 8.60% of Python online submissions for Roman to Integer.\n",
    "\n",
    "10/15/2022 18:31 | Accepted | 51 ms | 13.6 MB | python\n"
   ]
  },
  {
   "cell_type": "code",
   "execution_count": 69,
   "metadata": {},
   "outputs": [],
   "source": [
    "class Solution(object):\n",
    "    def romanToInt(self, s):\n",
    "        final_sum = 0\n",
    "        subtraction_dict = {'IV': 4, 'IX': 9, 'XL': 40, 'XC': 90, 'CD': 400, 'CM': 900}\n",
    "        char_dict = {'I': 1, 'V': 5, 'X': 10, 'L': 50, 'C': 100, 'D': 500, 'M': 1000}\n",
    "\n",
    "        # Averiguar se há ocorrencia de subtraction. Caso tenha, somar o valor correspondente\n",
    "        for i in subtraction_dict:\n",
    "            if s.find(i) >= 0:\n",
    "                final_sum += subtraction_dict[i]\n",
    "                s = s.replace(i,'') # Excluir ocorrencias de subtraction do número romano de input\n",
    "\n",
    "        # Averiguar contagem restante de caracteres romanas e realizar soma conforme valor de cada um\n",
    "        for char in char_dict:\n",
    "            final_sum += (char_dict[char] * s.count(char))\n",
    "\n",
    "        return final_sum\n",
    "        \n",
    "        \"\"\"\n",
    "        :type s: str\n",
    "        :rtype: int\n",
    "        \"\"\""
   ]
  },
  {
   "cell_type": "markdown",
   "metadata": {},
   "source": [
    "## Version 2"
   ]
  },
  {
   "cell_type": "code",
   "execution_count": 13,
   "metadata": {},
   "outputs": [],
   "source": [
    "class Solution1(object):\n",
    "    def romanToInt1(self, s):\n",
    "        final_sum = 0\n",
    "        roman_dict = {'IV': 4, 'IX': 9, 'XL': 40, 'XC': 90, 'CD': 400, 'CM': 900, 'I': 1, 'V': 5, 'X': 10, 'L': 50, 'C': 100, 'D': 500, 'M': 1000}\n",
    "\n",
    "        # Averiguar contagem restante de caracteres romanas e realizar soma conforme valor de cada um\n",
    "        for i in roman_dict:\n",
    "            while s.count(i) > 0:\n",
    "                final_sum += roman_dict[i]\n",
    "                s = s.replace(i,'', 1) # Excluir ocorrencias de cada caracter romano de input\n",
    "                \n",
    "        return final_sum\n",
    "        \n",
    "        \"\"\"\n",
    "        :type s: str\n",
    "        :rtype: int\n",
    "        \"\"\""
   ]
  },
  {
   "cell_type": "code",
   "execution_count": 14,
   "metadata": {},
   "outputs": [
    {
     "data": {
      "text/plain": [
       "1994"
      ]
     },
     "execution_count": 14,
     "metadata": {},
     "output_type": "execute_result"
    }
   ],
   "source": [
    "teste = Solution1()\n",
    "teste.romanToInt1(\"MCMXCIV\")"
   ]
  }
 ],
 "metadata": {
  "kernelspec": {
   "display_name": "Python 3.10.6 ('leet')",
   "language": "python",
   "name": "python3"
  },
  "language_info": {
   "codemirror_mode": {
    "name": "ipython",
    "version": 3
   },
   "file_extension": ".py",
   "mimetype": "text/x-python",
   "name": "python",
   "nbconvert_exporter": "python",
   "pygments_lexer": "ipython3",
   "version": "3.10.6"
  },
  "orig_nbformat": 4,
  "vscode": {
   "interpreter": {
    "hash": "9e142d12ee0aad094c13741f0fea49783848cc5cf911f3f078eae6525932ed60"
   }
  }
 },
 "nbformat": 4,
 "nbformat_minor": 2
}
