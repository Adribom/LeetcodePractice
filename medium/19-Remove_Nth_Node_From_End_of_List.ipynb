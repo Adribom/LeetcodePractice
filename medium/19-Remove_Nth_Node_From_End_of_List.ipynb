{
 "cells": [
  {
   "cell_type": "markdown",
   "metadata": {},
   "source": [
    "# [Given the head of a linked list, remove the nth node from the end of the list and return its head.](https://leetcode.com/problems/remove-nth-node-from-end-of-list/)"
   ]
  },
  {
   "cell_type": "markdown",
   "metadata": {},
   "source": [
    "### Version 1 \n",
    "\n",
    "Runtime: 42 ms | Beats 28.65%\n",
    "\n",
    "Memory: 13.4 MB | Beats 68.71%"
   ]
  },
  {
   "cell_type": "code",
   "execution_count": 3,
   "metadata": {},
   "outputs": [],
   "source": [
    "# Definition for singly-linked list.\n",
    "class ListNode(object):\n",
    "    def __init__(self, val=0, next=None):\n",
    "        self.val = val\n",
    "        self.next = next\n",
    "class Solution(object):\n",
    "    def removeNthFromEnd(self, head, n):\n",
    "        # Criar uma Dummy node para que possa ser acesso ao pointer do node\n",
    "        # que está a 1 elemento atrás do node que desejamos excluir\n",
    "        \n",
    "        dummy = ListNode(0, head)  # Next pointer como head para que seja criado no começo\n",
    "\n",
    "        left = dummy # Pointer da esquerda na posição inicial da lista linkada\n",
    "        right = head\n",
    "\n",
    "        # Mover pointer da direita até que atinga o elemento na posição n\n",
    "        while n > 0 and right:\n",
    "            right = right.next\n",
    "            n -= 1\n",
    "\n",
    "        # Mover ponteiro da esquerda até que chegue no elemento anterior ao \n",
    "        # que desejamos excluir (pointer da direita em None)\n",
    "        while right:\n",
    "            right = right.next\n",
    "            left = left.next \n",
    "\n",
    "        # Deletar node\n",
    "        left.next = left.next.next\n",
    "\n",
    "        return dummy.next"
   ]
  }
 ],
 "metadata": {
  "kernelspec": {
   "display_name": "Python 3.8.8 ('base')",
   "language": "python",
   "name": "python3"
  },
  "language_info": {
   "codemirror_mode": {
    "name": "ipython",
    "version": 3
   },
   "file_extension": ".py",
   "mimetype": "text/x-python",
   "name": "python",
   "nbconvert_exporter": "python",
   "pygments_lexer": "ipython3",
   "version": "3.8.8"
  },
  "orig_nbformat": 4,
  "vscode": {
   "interpreter": {
    "hash": "84fd0621054a9e494d7bba80a26014cf59b7676d0d5c728504920b20fe8a792d"
   }
  }
 },
 "nbformat": 4,
 "nbformat_minor": 2
}
