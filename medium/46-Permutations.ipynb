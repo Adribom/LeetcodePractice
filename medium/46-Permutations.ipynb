{
 "cells": [
  {
   "cell_type": "markdown",
   "metadata": {},
   "source": [
    "# [Given an array nums of distinct integers, return all the possible permutations.](https://leetcode.com/problems/permutations/)"
   ]
  },
  {
   "cell_type": "markdown",
   "metadata": {},
   "source": [
    "### Version 1 - manual\n",
    "\n",
    "Runtime: 44 ms, faster than 61.06% of Python online submissions for Permutations.\n",
    "\n",
    "Memory Usage: 13.5 MB, less than 66.76% of Python online submissions for Permutations.\n",
    "\n",
    "10/22/2022 17:08\t|Accepted\t|44 ms\t|13.5 MB\tpython"
   ]
  },
  {
   "cell_type": "code",
   "execution_count": 153,
   "metadata": {},
   "outputs": [],
   "source": [
    "class Solution(object):\n",
    "    def permute(self, nums):\n",
    "        \n",
    "        # Caso de nenhum na lista\n",
    "        if len(nums) == 0:\n",
    "            return []\n",
    "        \n",
    "        # Caso de um item apenas na lista\n",
    "        if len(nums) == 1:\n",
    "            return [nums]\n",
    "        \n",
    "        # Achar as permutações se haver mais de um item na lista\n",
    "        \n",
    "        permutations = []\n",
    "\n",
    "        # Calcular a permutação\n",
    "        for i in range(len(nums)):\n",
    "            m = nums[i]\n",
    "\n",
    "            # Criar a lista remanescente rem_list\n",
    "            rem_list = nums[:i] + nums[i+1:]\n",
    "\n",
    "            # Gerar todas as permutações\n",
    "            for p in self.permute(rem_list):\n",
    "                permutations.append([m] + p)\n",
    "        \n",
    "        return permutations\n",
    "        \"\"\"\n",
    "        :type nums: List[int]\n",
    "        :rtype: List[List[int]]\n",
    "        \"\"\""
   ]
  },
  {
   "cell_type": "code",
   "execution_count": 154,
   "metadata": {},
   "outputs": [
    {
     "data": {
      "text/plain": [
       "[[1, 2, 3], [1, 3, 2], [2, 1, 3], [2, 3, 1], [3, 1, 2], [3, 2, 1]]"
      ]
     },
     "execution_count": 154,
     "metadata": {},
     "output_type": "execute_result"
    }
   ],
   "source": [
    "teste = Solution()\n",
    "teste.permute([1, 2, 3])"
   ]
  },
  {
   "cell_type": "markdown",
   "metadata": {},
   "source": [
    "### Version 2 - python built-in library\n",
    "\n",
    "Runtime: 45 ms, faster than 58.73% of Python online submissions for Permutations.\n",
    "\n",
    "Memory Usage: 13.6 MB, less than 40.12% of Python online submissions for Permutations.\n",
    "\n",
    "10/22/2022 17:09\t|Accepted\t|45 ms\t|13.6 MB\t|python"
   ]
  },
  {
   "cell_type": "code",
   "execution_count": 156,
   "metadata": {},
   "outputs": [],
   "source": [
    "import itertools"
   ]
  },
  {
   "cell_type": "code",
   "execution_count": 157,
   "metadata": {},
   "outputs": [],
   "source": [
    "class Solution(object):\n",
    "    def permute(self, nums):\n",
    "        \n",
    "        permutations = list(itertools.permutations(nums))\n",
    "        \n",
    "        return permutations\n",
    "        \n",
    "        \"\"\"\n",
    "        :type nums: List[int]\n",
    "        :rtype: List[List[int]]\n",
    "        \"\"\""
   ]
  },
  {
   "cell_type": "code",
   "execution_count": 158,
   "metadata": {},
   "outputs": [
    {
     "data": {
      "text/plain": [
       "[(1, 2, 3), (1, 3, 2), (2, 1, 3), (2, 3, 1), (3, 1, 2), (3, 2, 1)]"
      ]
     },
     "execution_count": 158,
     "metadata": {},
     "output_type": "execute_result"
    }
   ],
   "source": [
    "teste = Solution()\n",
    "teste.permute([1, 2, 3])"
   ]
  }
 ],
 "metadata": {
  "kernelspec": {
   "display_name": "Python 3.8.8 ('base')",
   "language": "python",
   "name": "python3"
  },
  "language_info": {
   "codemirror_mode": {
    "name": "ipython",
    "version": 3
   },
   "file_extension": ".py",
   "mimetype": "text/x-python",
   "name": "python",
   "nbconvert_exporter": "python",
   "pygments_lexer": "ipython3",
   "version": "3.8.8"
  },
  "orig_nbformat": 4,
  "vscode": {
   "interpreter": {
    "hash": "84fd0621054a9e494d7bba80a26014cf59b7676d0d5c728504920b20fe8a792d"
   }
  }
 },
 "nbformat": 4,
 "nbformat_minor": 2
}
